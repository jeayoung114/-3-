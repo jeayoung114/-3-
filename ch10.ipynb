{
 "cells": [
  {
   "cell_type": "markdown",
   "metadata": {},
   "source": [
    "## 1. MNIST를 RNN으로"
   ]
  },
  {
   "cell_type": "code",
   "execution_count": 1,
   "metadata": {},
   "outputs": [
    {
     "name": "stderr",
     "output_type": "stream",
     "text": [
      "C:\\Users\\user\\Anaconda3\\lib\\site-packages\\h5py\\__init__.py:34: FutureWarning: Conversion of the second argument of issubdtype from `float` to `np.floating` is deprecated. In future, it will be treated as `np.float64 == np.dtype(float).type`.\n",
      "  from ._conv import register_converters as _register_converters\n"
     ]
    },
    {
     "name": "stdout",
     "output_type": "stream",
     "text": [
      "Extracting ./mnist/data/train-images-idx3-ubyte.gz\n",
      "Extracting ./mnist/data/train-labels-idx1-ubyte.gz\n",
      "Extracting ./mnist/data/t10k-images-idx3-ubyte.gz\n",
      "Extracting ./mnist/data/t10k-labels-idx1-ubyte.gz\n"
     ]
    }
   ],
   "source": [
    "import tensorflow as tf\n",
    "\n",
    "from tensorflow.examples.tutorials.mnist import input_data\n",
    "mnist = input_data.read_data_sets(\"./mnist/data/\", one_hot=True)"
   ]
  },
  {
   "cell_type": "code",
   "execution_count": 13,
   "metadata": {
    "collapsed": true
   },
   "outputs": [],
   "source": [
    "learning_rate= 0.001\n",
    "total_epoch = 30\n",
    "batch_size = 128\n",
    "\n",
    "n_input = 28\n",
    "n_step = 28\n",
    "n_hidden = 128\n",
    "n_class = 10"
   ]
  },
  {
   "cell_type": "code",
   "execution_count": 33,
   "metadata": {
    "collapsed": true
   },
   "outputs": [],
   "source": [
    "X = tf.placeholder(tf.float32, [None, n_step, n_input])\n",
    "Y = tf.placeholder(tf.float32, [None, n_class])\n",
    "W = tf.Variable(tf.random_normal([n_hidden, n_class]))\n",
    "b = tf.Variable(tf.random_normal([n_class]))"
   ]
  },
  {
   "cell_type": "code",
   "execution_count": 4,
   "metadata": {
    "collapsed": true
   },
   "outputs": [],
   "source": [
    "cell = tf.nn.rnn_cell.BasicRNNCell(n_hidden)"
   ]
  },
  {
   "cell_type": "code",
   "execution_count": 5,
   "metadata": {
    "collapsed": true
   },
   "outputs": [],
   "source": [
    "outputs, states = tf.nn.dynamic_rnn(cell, X, dtype=tf.float32)"
   ]
  },
  {
   "cell_type": "code",
   "execution_count": 7,
   "metadata": {
    "collapsed": true
   },
   "outputs": [],
   "source": [
    "outputs = tf.transpose(outputs, [1, 0, 2])\n",
    "outputs = outputs[-1]"
   ]
  },
  {
   "cell_type": "code",
   "execution_count": 8,
   "metadata": {
    "collapsed": true
   },
   "outputs": [],
   "source": [
    "model = tf.matmul(outputs, W) + b"
   ]
  },
  {
   "cell_type": "code",
   "execution_count": 9,
   "metadata": {},
   "outputs": [
    {
     "name": "stdout",
     "output_type": "stream",
     "text": [
      "WARNING:tensorflow:From <ipython-input-9-b8e11a04c999>:1: softmax_cross_entropy_with_logits (from tensorflow.python.ops.nn_ops) is deprecated and will be removed in a future version.\n",
      "Instructions for updating:\n",
      "\n",
      "Future major versions of TensorFlow will allow gradients to flow\n",
      "into the labels input on backprop by default.\n",
      "\n",
      "See tf.nn.softmax_cross_entropy_with_logits_v2.\n",
      "\n"
     ]
    }
   ],
   "source": [
    "cost = tf.reduce_mean(tf.nn.softmax_cross_entropy_with_logits(logits=model,labels=Y))\n",
    "optimizer = tf.train.AdamOptimizer(learning_rate).minimize(cost)"
   ]
  },
  {
   "cell_type": "code",
   "execution_count": 19,
   "metadata": {},
   "outputs": [
    {
     "name": "stdout",
     "output_type": "stream",
     "text": [
      "Epoch: 0001 Avg.cost = 0.542\n",
      "Epoch: 0002 Avg.cost = 0.240\n",
      "Epoch: 0003 Avg.cost = 0.174\n",
      "Epoch: 0004 Avg.cost = 0.154\n",
      "Epoch: 0005 Avg.cost = 0.138\n",
      "Epoch: 0006 Avg.cost = 0.118\n",
      "Epoch: 0007 Avg.cost = 0.112\n",
      "Epoch: 0008 Avg.cost = 0.106\n",
      "Epoch: 0009 Avg.cost = 0.100\n",
      "Epoch: 0010 Avg.cost = 0.098\n",
      "Epoch: 0011 Avg.cost = 0.095\n",
      "Epoch: 0012 Avg.cost = 0.085\n",
      "Epoch: 0013 Avg.cost = 0.086\n",
      "Epoch: 0014 Avg.cost = 0.085\n",
      "Epoch: 0015 Avg.cost = 0.083\n",
      "Epoch: 0016 Avg.cost = 0.079\n",
      "Epoch: 0017 Avg.cost = 0.074\n",
      "Epoch: 0018 Avg.cost = 0.078\n",
      "Epoch: 0019 Avg.cost = 0.073\n",
      "Epoch: 0020 Avg.cost = 0.068\n",
      "Epoch: 0021 Avg.cost = 0.068\n",
      "Epoch: 0022 Avg.cost = 0.066\n",
      "Epoch: 0023 Avg.cost = 0.061\n",
      "Epoch: 0024 Avg.cost = 0.064\n",
      "Epoch: 0025 Avg.cost = 0.067\n",
      "Epoch: 0026 Avg.cost = 0.058\n",
      "Epoch: 0027 Avg.cost = 0.063\n",
      "Epoch: 0028 Avg.cost = 0.069\n",
      "Epoch: 0029 Avg.cost = 0.057\n",
      "Epoch: 0030 Avg.cost = 0.061\n",
      "최적화 완료!\n",
      "정확도: 0.9732\n"
     ]
    }
   ],
   "source": [
    "sess = tf.Session()\n",
    "sess.run(tf.global_variables_initializer())\n",
    "\n",
    "total_batch = int(mnist.train.num_examples / batch_size)\n",
    "\n",
    "for epoch in range(total_epoch):\n",
    "    total_cost= 0\n",
    "    \n",
    "    for i in range(total_batch):\n",
    "        batch_xs, batch_ys = mnist.train.next_batch(batch_size)\n",
    "        batch_xs = batch_xs.reshape((batch_size, n_step, n_input))\n",
    "        \n",
    "        _, cost_val = sess.run([optimizer, cost], feed_dict={X: batch_xs, Y: batch_ys})\n",
    "        total_cost += cost_val\n",
    "        \n",
    "    print('Epoch:', '%04d' % (epoch + 1), 'Avg.cost =', '{:.3f}'.format(total_cost / total_batch))\n",
    "    \n",
    "print('최적화 완료!')\n",
    "\n",
    "is_correct = tf.equal(tf.argmax(model, 1), tf.argmax(Y, 1))\n",
    "accuracy = tf.reduce_mean(tf.cast(is_correct, tf.float32))\n",
    "\n",
    "test_batch_size = len(mnist.test.images)\n",
    "\n",
    "test_xs = mnist.test.images.reshape(test_batch_size, n_step, n_input)\n",
    "test_ys = mnist.test.labels\n",
    "\n",
    "print('정확도:', sess.run(accuracy, feed_dict={X: test_xs, Y: test_ys}))"
   ]
  },
  {
   "cell_type": "markdown",
   "metadata": {},
   "source": [
    "## 10.2 단어 자동 완성"
   ]
  },
  {
   "cell_type": "code",
   "execution_count": 20,
   "metadata": {
    "collapsed": true
   },
   "outputs": [],
   "source": [
    "import numpy as np\n",
    "char_arr = ['a', 'b', 'c', 'd', 'e', 'f', 'g', 'h', 'i', 'j', 'k', 'l', 'm', 'n', 'o', 'p', 'q', 'r', 's', 't', 'u', 'v', 'w', 'x', 'y', 'z']\n",
    "num_dic = {n: i for i, n in enumerate(char_arr)}\n",
    "dic_len = len(num_dic)"
   ]
  },
  {
   "cell_type": "code",
   "execution_count": 28,
   "metadata": {
    "collapsed": true
   },
   "outputs": [],
   "source": [
    "seq_data = ['word', 'wood', 'deep', 'dive', 'cold', 'cool', 'load', 'love', 'kiss', 'kind']"
   ]
  },
  {
   "cell_type": "code",
   "execution_count": 21,
   "metadata": {
    "collapsed": true
   },
   "outputs": [],
   "source": [
    "def make_batch(seq_data):\n",
    "    input_batch = []\n",
    "    target_batch = []\n",
    "    \n",
    "    for seq in seq_data:\n",
    "        input = [num_dic[n] for n in seq[:-1]]\n",
    "        target = num_dic[seq[-1]]\n",
    "        input_batch.append(np.eye(dic_len)[input])\n",
    "        target_batch.append(target)\n",
    "        \n",
    "    return input_batch, target_batch\n",
    "\n",
    "learning_rate = 0.01\n",
    "n_hidden = 128\n",
    "total_epoch = 30\n",
    "n_step =3\n",
    "n_input = n_class = dic_len\n"
   ]
  },
  {
   "cell_type": "code",
   "execution_count": null,
   "metadata": {
    "collapsed": true
   },
   "outputs": [],
   "source": [
    "X = tf.placeholder(tf.float32, [None, n_step, n_input])\n",
    "Y = tf.placeholder(tf.int32, [None])\n",
    "\n",
    "W = tf.Variable(tf.random_normal([n_hidden, n_class]))\n",
    "b = tf.Variable(tf.random_normal([n_class]))"
   ]
  },
  {
   "cell_type": "code",
   "execution_count": 23,
   "metadata": {
    "collapsed": true
   },
   "outputs": [],
   "source": [
    "cell1 = tf.nn.rnn_cell.BasicLSTMCell(n_hidden)\n",
    "cell1 = tf.nn.rnn_cell.DropoutWrapper(cell1, output_keep_prob=0.5)\n",
    "cell2 = tf.nn.rnn_cell.BasicLSTMCell(n_hidden)"
   ]
  },
  {
   "cell_type": "code",
   "execution_count": 24,
   "metadata": {
    "collapsed": true
   },
   "outputs": [],
   "source": [
    "multi_cell = tf.nn.rnn_cell.MultiRNNCell([cell1, cell2])\n",
    "\n",
    "outputs, states = tf.nn.dynamic_rnn(multi_cell, X, dtype=tf.float32)"
   ]
  },
  {
   "cell_type": "code",
   "execution_count": 25,
   "metadata": {
    "collapsed": true
   },
   "outputs": [],
   "source": [
    "outputs = tf.transpose(outputs, [1, 0, 2])\n",
    "outputs = outputs[-1]\n",
    "model = tf.matmul(outputs, W) + b"
   ]
  },
  {
   "cell_type": "code",
   "execution_count": 26,
   "metadata": {
    "collapsed": true
   },
   "outputs": [],
   "source": [
    "cost = tf.reduce_mean( tf.nn.sparse_softmax_cross_entropy_with_logits(logits=model, labels=Y))\n",
    "\n",
    "optimizer = tf.train.AdamOptimizer(learning_rate).minimize(cost)"
   ]
  },
  {
   "cell_type": "code",
   "execution_count": 29,
   "metadata": {},
   "outputs": [
    {
     "name": "stdout",
     "output_type": "stream",
     "text": [
      "Epoch: 0001 cost = 3.798557\n",
      "Epoch: 0002 cost = 2.814528\n",
      "Epoch: 0003 cost = 1.522980\n",
      "Epoch: 0004 cost = 1.065668\n",
      "Epoch: 0005 cost = 1.223558\n",
      "Epoch: 0006 cost = 0.456911\n",
      "Epoch: 0007 cost = 0.616175\n",
      "Epoch: 0008 cost = 0.624520\n",
      "Epoch: 0009 cost = 0.302506\n",
      "Epoch: 0010 cost = 0.312327\n",
      "Epoch: 0011 cost = 0.304988\n",
      "Epoch: 0012 cost = 0.342797\n",
      "Epoch: 0013 cost = 0.167950\n",
      "Epoch: 0014 cost = 0.137598\n",
      "Epoch: 0015 cost = 0.222229\n",
      "Epoch: 0016 cost = 0.067474\n",
      "Epoch: 0017 cost = 0.202642\n",
      "Epoch: 0018 cost = 0.061743\n",
      "Epoch: 0019 cost = 0.113613\n",
      "Epoch: 0020 cost = 0.136710\n",
      "Epoch: 0021 cost = 0.079752\n",
      "Epoch: 0022 cost = 0.157222\n",
      "Epoch: 0023 cost = 0.130370\n",
      "Epoch: 0024 cost = 0.165374\n",
      "Epoch: 0025 cost = 0.034489\n",
      "Epoch: 0026 cost = 0.012479\n",
      "Epoch: 0027 cost = 0.065858\n",
      "Epoch: 0028 cost = 0.043340\n",
      "Epoch: 0029 cost = 0.061239\n",
      "Epoch: 0030 cost = 0.005861\n",
      "최적화 완료!\n"
     ]
    }
   ],
   "source": [
    "sess = tf.Session()\n",
    "sess.run(tf.global_variables_initializer())\n",
    "\n",
    "input_batch, target_batch = make_batch(seq_data)\n",
    "\n",
    "for epoch in range(total_epoch):\n",
    "    _, loss = sess.run([optimizer, cost], feed_dict={X: input_batch, Y: target_batch})\n",
    "    \n",
    "    print('Epoch:', '%04d' % (epoch + 1), 'cost =', '{:.6f}'.format(loss))\n",
    "    \n",
    "print('최적화 완료!')"
   ]
  },
  {
   "cell_type": "code",
   "execution_count": 30,
   "metadata": {
    "collapsed": true
   },
   "outputs": [],
   "source": [
    "prediction = tf.cast(tf.argmax(model, 1), tf.int32)\n",
    "prediction_check = tf.equal(prediction, Y)\n",
    "accuracy = tf.reduce_mean(tf.cast(prediction_check, tf.float32))"
   ]
  },
  {
   "cell_type": "code",
   "execution_count": 31,
   "metadata": {
    "collapsed": true
   },
   "outputs": [],
   "source": [
    "input_batch, target_batch = make_batch(seq_data)\n",
    "\n",
    "predict, accuracy_val = sess.run([prediction, accuracy], feed_dict={X: input_batch, Y: target_batch})"
   ]
  },
  {
   "cell_type": "code",
   "execution_count": 32,
   "metadata": {},
   "outputs": [
    {
     "name": "stdout",
     "output_type": "stream",
     "text": [
      "\n",
      "=== 예측 결과 ===\n",
      "입력값: ['wor', 'woo', 'dee', 'div', 'col', 'coo', 'loa', 'lov', 'kis', 'kin']\n",
      "예측값: ['word', 'wood', 'deep', 'dive', 'cold', 'cool', 'load', 'love', 'kiss', 'kind']\n",
      "정확도: 1.0\n"
     ]
    }
   ],
   "source": [
    "predict_words = []\n",
    "for idx, val in enumerate(seq_data):\n",
    "    last_char = char_arr[predict[idx]]\n",
    "    predict_words.append(val[:3] + last_char)\n",
    "    \n",
    "print('\\n=== 예측 결과 ===')\n",
    "print('입력값:', [w[:3] + '' for w in seq_data])\n",
    "print('예측값:', predict_words)\n",
    "print('정확도:', accuracy_val)"
   ]
  },
  {
   "cell_type": "markdown",
   "metadata": {},
   "source": [
    "## 3. Sequence to Sequence"
   ]
  },
  {
   "cell_type": "code",
   "execution_count": 1,
   "metadata": {},
   "outputs": [
    {
     "name": "stderr",
     "output_type": "stream",
     "text": [
      "C:\\Users\\user\\Anaconda3\\lib\\site-packages\\h5py\\__init__.py:34: FutureWarning: Conversion of the second argument of issubdtype from `float` to `np.floating` is deprecated. In future, it will be treated as `np.float64 == np.dtype(float).type`.\n",
      "  from ._conv import register_converters as _register_converters\n"
     ]
    }
   ],
   "source": [
    "import tensorflow as tf\n",
    "import numpy as np"
   ]
  },
  {
   "cell_type": "code",
   "execution_count": 2,
   "metadata": {
    "collapsed": true
   },
   "outputs": [],
   "source": [
    "char_arr = [c for c in 'SEPabcdefghijklmnopqrstuvwxyz단어나무놀이소녀키스사랑']\n",
    "num_dic = {n: i for i, n in enumerate(char_arr)}\n",
    "dic_len = len(num_dic)\n",
    "\n",
    "seq_data = [['word', '단어'], ['wood', '나무'], ['game', '놀이'], ['girl', '소녀'], ['kiss', '키스'], ['love', '사랑']]"
   ]
  },
  {
   "cell_type": "markdown",
   "metadata": {},
   "source": [
    "1. 인코더 셀의 입력값을 위해 입력 단어를 한 글자씩 떼어 배열로 만듭니다.\n",
    "2. 디코더 셀의 입력밧을 위해 출력 단어의 글자들을 배열로 만들고, 시작을 나타내는 심볼'S'를 맨 앞에 붙입니다.\n",
    "3. 학습을 위해 비교할 디코더 셀의 출력값을 만들고, 출력의 끝을 알려주는 심볼 'E'를 마지막에 붙입니다."
   ]
  },
  {
   "cell_type": "code",
   "execution_count": 3,
   "metadata": {},
   "outputs": [],
   "source": [
    "def make_batch(seq_data):\n",
    "    input_batch = []\n",
    "    output_batch = []\n",
    "    target_batch = []\n",
    "    \n",
    "    for seq in seq_data:\n",
    "        input = [num_dic[n] for n in seq[0]]\n",
    "        output = [num_dic[n] for n in ('S' + seq[1])]\n",
    "        target = [num_dic[n] for n in (seq[1] + 'E')]\n",
    "        \n",
    "        input_batch.append(np.eye(dic_len)[input])\n",
    "        output_batch.append(np.eye(dic_len)[output])\n",
    "        target_batch.append(target)\n",
    "        \n",
    "    return input_batch, output_batch, target_batch"
   ]
  },
  {
   "cell_type": "code",
   "execution_count": 4,
   "metadata": {
    "collapsed": true
   },
   "outputs": [],
   "source": [
    "learning_rate = 0.01\n",
    "n_hidden = 128\n",
    "total_epoch = 100\n",
    "\n",
    "n_class = n_input = dic_len"
   ]
  },
  {
   "cell_type": "code",
   "execution_count": 5,
   "metadata": {
    "collapsed": true
   },
   "outputs": [],
   "source": [
    "enc_input = tf.placeholder(tf.float32, [None, None, n_input])\n",
    "dec_input = tf.placeholder(tf.float32, [None, None, n_input])\n",
    "targets = tf.placeholder(tf.int64, [None, None])"
   ]
  },
  {
   "cell_type": "code",
   "execution_count": 6,
   "metadata": {},
   "outputs": [],
   "source": [
    "with tf.variable_scope('encode'):\n",
    "    enc_cell = tf.nn.rnn_cell.BasicRNNCell(n_hidden)\n",
    "    enc_cell = tf.nn.rnn_cell.DropoutWrapper(enc_cell, output_keep_prob=0.5)\n",
    "    \n",
    "    outputs, enc_states = tf.nn.dynamic_rnn(enc_cell, enc_input, dtype=tf.float32)\n",
    "    \n",
    "with tf.variable_scope('decode'):\n",
    "    dec_cell = tf.nn.rnn_cell.BasicRNNCell(n_hidden)\n",
    "    dec_cell = tf.nn.rnn_cell.DropoutWrapper(dec_cell, output_keep_prob=0.5)\n",
    "    \n",
    "    outputs, dec_state = tf.nn.dynamic_rnn(dec_cell, dec_input, initial_state=enc_states, dtype=tf.float32)"
   ]
  },
  {
   "cell_type": "code",
   "execution_count": 7,
   "metadata": {
    "collapsed": true
   },
   "outputs": [],
   "source": [
    "model = tf.layers.dense(outputs, n_class, activation=None)\n",
    "\n",
    "cost = tf.reduce_mean(tf.nn.sparse_softmax_cross_entropy_with_logits(logits=model, labels=targets))\n",
    "\n",
    "optimizer = tf.train.AdamOptimizer(learning_rate).minimize(cost)"
   ]
  },
  {
   "cell_type": "code",
   "execution_count": 8,
   "metadata": {},
   "outputs": [
    {
     "name": "stdout",
     "output_type": "stream",
     "text": [
      "Epoch: 0001 cost = 3.755240\n",
      "Epoch: 0002 cost = 2.662431\n",
      "Epoch: 0003 cost = 1.700984\n",
      "Epoch: 0004 cost = 1.331005\n",
      "Epoch: 0005 cost = 0.749661\n",
      "Epoch: 0006 cost = 0.490378\n",
      "Epoch: 0007 cost = 0.493383\n",
      "Epoch: 0008 cost = 0.410356\n",
      "Epoch: 0009 cost = 0.258217\n",
      "Epoch: 0010 cost = 0.203878\n",
      "Epoch: 0011 cost = 0.254099\n",
      "Epoch: 0012 cost = 0.111028\n",
      "Epoch: 0013 cost = 0.133420\n",
      "Epoch: 0014 cost = 0.075950\n",
      "Epoch: 0015 cost = 0.098040\n",
      "Epoch: 0016 cost = 0.064622\n",
      "Epoch: 0017 cost = 0.024987\n",
      "Epoch: 0018 cost = 0.045631\n",
      "Epoch: 0019 cost = 0.037159\n",
      "Epoch: 0020 cost = 0.032225\n",
      "Epoch: 0021 cost = 0.067716\n",
      "Epoch: 0022 cost = 0.015288\n",
      "Epoch: 0023 cost = 0.012642\n",
      "Epoch: 0024 cost = 0.022679\n",
      "Epoch: 0025 cost = 0.004493\n",
      "Epoch: 0026 cost = 0.001641\n",
      "Epoch: 0027 cost = 0.003600\n",
      "Epoch: 0028 cost = 0.009993\n",
      "Epoch: 0029 cost = 0.006258\n",
      "Epoch: 0030 cost = 0.001460\n",
      "Epoch: 0031 cost = 0.002373\n",
      "Epoch: 0032 cost = 0.001007\n",
      "Epoch: 0033 cost = 0.002274\n",
      "Epoch: 0034 cost = 0.002631\n",
      "Epoch: 0035 cost = 0.004762\n",
      "Epoch: 0036 cost = 0.002835\n",
      "Epoch: 0037 cost = 0.001444\n",
      "Epoch: 0038 cost = 0.002611\n",
      "Epoch: 0039 cost = 0.003818\n",
      "Epoch: 0040 cost = 0.000593\n",
      "Epoch: 0041 cost = 0.001096\n",
      "Epoch: 0042 cost = 0.001315\n",
      "Epoch: 0043 cost = 0.001158\n",
      "Epoch: 0044 cost = 0.001165\n",
      "Epoch: 0045 cost = 0.000908\n",
      "Epoch: 0046 cost = 0.000879\n",
      "Epoch: 0047 cost = 0.000985\n",
      "Epoch: 0048 cost = 0.000597\n",
      "Epoch: 0049 cost = 0.000348\n",
      "Epoch: 0050 cost = 0.000397\n",
      "Epoch: 0051 cost = 0.000549\n",
      "Epoch: 0052 cost = 0.001453\n",
      "Epoch: 0053 cost = 0.001086\n",
      "Epoch: 0054 cost = 0.000826\n",
      "Epoch: 0055 cost = 0.000878\n",
      "Epoch: 0056 cost = 0.000553\n",
      "Epoch: 0057 cost = 0.001227\n",
      "Epoch: 0058 cost = 0.001256\n",
      "Epoch: 0059 cost = 0.000422\n",
      "Epoch: 0060 cost = 0.000792\n",
      "Epoch: 0061 cost = 0.001016\n",
      "Epoch: 0062 cost = 0.002550\n",
      "Epoch: 0063 cost = 0.000705\n",
      "Epoch: 0064 cost = 0.000500\n",
      "Epoch: 0065 cost = 0.000234\n",
      "Epoch: 0066 cost = 0.000305\n",
      "Epoch: 0067 cost = 0.000800\n",
      "Epoch: 0068 cost = 0.000345\n",
      "Epoch: 0069 cost = 0.000341\n",
      "Epoch: 0070 cost = 0.000377\n",
      "Epoch: 0071 cost = 0.000231\n",
      "Epoch: 0072 cost = 0.001588\n",
      "Epoch: 0073 cost = 0.000316\n",
      "Epoch: 0074 cost = 0.000309\n",
      "Epoch: 0075 cost = 0.000690\n",
      "Epoch: 0076 cost = 0.000690\n",
      "Epoch: 0077 cost = 0.000350\n",
      "Epoch: 0078 cost = 0.000615\n",
      "Epoch: 0079 cost = 0.000371\n",
      "Epoch: 0080 cost = 0.001220\n",
      "Epoch: 0081 cost = 0.000845\n",
      "Epoch: 0082 cost = 0.001761\n",
      "Epoch: 0083 cost = 0.001349\n",
      "Epoch: 0084 cost = 0.000619\n",
      "Epoch: 0085 cost = 0.000334\n",
      "Epoch: 0086 cost = 0.000229\n",
      "Epoch: 0087 cost = 0.000407\n",
      "Epoch: 0088 cost = 0.000485\n",
      "Epoch: 0089 cost = 0.000459\n",
      "Epoch: 0090 cost = 0.001242\n",
      "Epoch: 0091 cost = 0.000613\n",
      "Epoch: 0092 cost = 0.000464\n",
      "Epoch: 0093 cost = 0.000387\n",
      "Epoch: 0094 cost = 0.000879\n",
      "Epoch: 0095 cost = 0.000384\n",
      "Epoch: 0096 cost = 0.001090\n",
      "Epoch: 0097 cost = 0.000550\n",
      "Epoch: 0098 cost = 0.000254\n",
      "Epoch: 0099 cost = 0.000304\n",
      "Epoch: 0100 cost = 0.000139\n",
      "최적화 완료!\n"
     ]
    }
   ],
   "source": [
    "sess = tf.Session()\n",
    "sess.run(tf.global_variables_initializer())\n",
    "\n",
    "input_batch, output_batch, target_batch = make_batch(seq_data)\n",
    "\n",
    "for epoch in range(total_epoch):\n",
    "    _, loss = sess.run([optimizer, cost], feed_dict={enc_input: input_batch, dec_input: output_batch, targets: target_batch})\n",
    "    \n",
    "    print('Epoch:', '%04d' % (epoch + 1), 'cost =', '{:.6f}'.format(loss))\n",
    "    \n",
    "print('최적화 완료!')"
   ]
  },
  {
   "cell_type": "code",
   "execution_count": 13,
   "metadata": {},
   "outputs": [],
   "source": [
    "def translate(word):\n",
    "    seq_data = [word, 'P' * len(word)]\n",
    "    \n",
    "    input_batch, output_batch, target_batch = make_batch([seq_data])\n",
    "\n",
    "    prediction = tf.argmax(model, 2)\n",
    "\n",
    "    result = sess.run(prediction, feed_dict={enc_input: input_batch, dec_input: output_batch, targets: target_batch})\n",
    "\n",
    "    decoded = [char_arr[i] for i in result[0]]\n",
    "\n",
    "    end = decoded.index('E')\n",
    "    translated = ''.join(decoded[:end])\n",
    "\n",
    "    return translated"
   ]
  },
  {
   "cell_type": "code",
   "execution_count": 14,
   "metadata": {},
   "outputs": [
    {
     "name": "stdout",
     "output_type": "stream",
     "text": [
      "\n",
      "=== 번역 테스트 ===\n",
      "word -> 단어\n",
      "wodr -> 나무\n",
      "love -> 사랑\n",
      "loev -> 사랑\n",
      "abcd -> 놀이사무\n"
     ]
    }
   ],
   "source": [
    "print('\\n=== 번역 테스트 ===')\n",
    "\n",
    "print('word ->', translate('word'))\n",
    "print('wodr ->', translate('wodr'))\n",
    "print('love ->', translate('love'))\n",
    "print('loev ->', translate('loev'))\n",
    "print('abcd ->', translate('abcd'))"
   ]
  },
  {
   "cell_type": "code",
   "execution_count": null,
   "metadata": {
    "collapsed": true
   },
   "outputs": [],
   "source": []
  }
 ],
 "metadata": {
  "kernelspec": {
   "display_name": "Python [conda env:Anaconda3]",
   "language": "python",
   "name": "conda-env-Anaconda3-py"
  },
  "language_info": {
   "codemirror_mode": {
    "name": "ipython",
    "version": 3
   },
   "file_extension": ".py",
   "mimetype": "text/x-python",
   "name": "python",
   "nbconvert_exporter": "python",
   "pygments_lexer": "ipython3",
   "version": "3.6.1"
  }
 },
 "nbformat": 4,
 "nbformat_minor": 2
}
